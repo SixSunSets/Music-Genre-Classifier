{
 "cells": [
  {
   "cell_type": "code",
   "execution_count": 90,
   "metadata": {},
   "outputs": [],
   "source": [
    "# pip install librosa\n",
    "# pip install matplotlib\n",
    "# pip install pandas\n",
    "# pip install tqdm\n",
    "import os\n",
    "import librosa\n",
    "import librosa.display\n",
    "import numpy as np\n",
    "import pandas as pd\n",
    "import matplotlib.pyplot as plt\n",
    "from sklearn.model_selection import train_test_split\n",
    "from sklearn.preprocessing import LabelEncoder, StandardScaler\n",
    "from tqdm import tqdm"
   ]
  },
  {
   "cell_type": "markdown",
   "metadata": {},
   "source": [
    "Configuración del dataset"
   ]
  },
  {
   "cell_type": "code",
   "execution_count": 64,
   "metadata": {},
   "outputs": [],
   "source": [
    "DATASET_PATH = \"data/genres_original/\"\n",
    "GENRES = ['blues', 'classical', 'country', 'disco', 'hiphop', 'jazz', \n",
    "          'metal', 'pop', 'reggae', 'rock']\n",
    "SAMPLE_RATE = 22050 \n",
    "DURATION = 30  \n",
    "SAMPLES_PER_TRACK = SAMPLE_RATE * DURATION"
   ]
  },
  {
   "cell_type": "markdown",
   "metadata": {},
   "source": [
    "Procesamiento el dataset y extracción de coeficientes MFCCs"
   ]
  },
  {
   "cell_type": "code",
   "execution_count": 65,
   "metadata": {},
   "outputs": [],
   "source": [
    "def extract_features(dataset_path, genres, n_mfcc=13):\n",
    "    data = {\n",
    "        \"genre\": [],\n",
    "        \"mfcc\": [],\n",
    "        \"filename\": []\n",
    "    }\n",
    "    \n",
    "    for genre in genres:\n",
    "        genre_path = os.path.join(dataset_path, genre)\n",
    "        print(f\"Procesando género: {genre}\")\n",
    "        \n",
    "        for file_name in tqdm(os.listdir(genre_path)):\n",
    "            file_path = os.path.join(genre_path, file_name)\n",
    "            \n",
    "            try:\n",
    "                # Cargar el archivo de audio\n",
    "                signal, sr = librosa.load(file_path, sr=SAMPLE_RATE, duration=DURATION)\n",
    "                \n",
    "                # Verificar que el archivo tenga la duración esperada\n",
    "                if len(signal) >= SAMPLES_PER_TRACK:\n",
    "                    # Extraer MFCCs\n",
    "                    mfcc = librosa.feature.mfcc(y=signal, sr=sr, n_mfcc=n_mfcc)\n",
    "                    mfcc_mean = np.mean(mfcc.T, axis=0)  # Usar la media de las características\n",
    "                    \n",
    "                    # Guardar en el diccionario\n",
    "                    data[\"genre\"].append(genre)\n",
    "                    data[\"mfcc\"].append(mfcc_mean)\n",
    "                    data[\"filename\"].append(file_name)\n",
    "            except Exception as e:\n",
    "                print(f\"Error procesando {file_path}: {e}\")\n",
    "                \n",
    "    return pd.DataFrame(data)"
   ]
  },
  {
   "cell_type": "code",
   "execution_count": 68,
   "metadata": {},
   "outputs": [
    {
     "name": "stdout",
     "output_type": "stream",
     "text": [
      "Procesando género: blues\n"
     ]
    },
    {
     "name": "stderr",
     "output_type": "stream",
     "text": [
      "100%|██████████| 100/100 [00:03<00:00, 28.66it/s]\n"
     ]
    },
    {
     "name": "stdout",
     "output_type": "stream",
     "text": [
      "Procesando género: classical\n"
     ]
    },
    {
     "name": "stderr",
     "output_type": "stream",
     "text": [
      "100%|██████████| 100/100 [00:03<00:00, 29.26it/s]\n"
     ]
    },
    {
     "name": "stdout",
     "output_type": "stream",
     "text": [
      "Procesando género: country\n"
     ]
    },
    {
     "name": "stderr",
     "output_type": "stream",
     "text": [
      "100%|██████████| 100/100 [00:03<00:00, 27.33it/s]\n"
     ]
    },
    {
     "name": "stdout",
     "output_type": "stream",
     "text": [
      "Procesando género: disco\n"
     ]
    },
    {
     "name": "stderr",
     "output_type": "stream",
     "text": [
      "100%|██████████| 100/100 [00:03<00:00, 26.88it/s]\n"
     ]
    },
    {
     "name": "stdout",
     "output_type": "stream",
     "text": [
      "Procesando género: hiphop\n"
     ]
    },
    {
     "name": "stderr",
     "output_type": "stream",
     "text": [
      "100%|██████████| 100/100 [00:03<00:00, 27.27it/s]\n"
     ]
    },
    {
     "name": "stdout",
     "output_type": "stream",
     "text": [
      "Procesando género: jazz\n"
     ]
    },
    {
     "name": "stderr",
     "output_type": "stream",
     "text": [
      " 52%|█████▏    | 52/100 [00:01<00:01, 28.47it/s]C:\\Users\\alexa\\AppData\\Local\\Temp\\ipykernel_15752\\2392870113.py:17: UserWarning: PySoundFile failed. Trying audioread instead.\n",
      "  signal, sr = librosa.load(file_path, sr=SAMPLE_RATE, duration=DURATION)\n",
      "c:\\Users\\alexa\\Desktop\\proyectos_python\\.venv\\Lib\\site-packages\\librosa\\core\\audio.py:184: FutureWarning: librosa.core.audio.__audioread_load\n",
      "\tDeprecated as of librosa version 0.10.0.\n",
      "\tIt will be removed in librosa version 1.0.\n",
      "  y, sr_native = __audioread_load(path, offset, duration, dtype)\n",
      " 60%|██████    | 60/100 [00:02<00:01, 29.53it/s]"
     ]
    },
    {
     "name": "stdout",
     "output_type": "stream",
     "text": [
      "Error procesando data/genres_original/jazz\\jazz.00054.wav: \n"
     ]
    },
    {
     "name": "stderr",
     "output_type": "stream",
     "text": [
      "100%|██████████| 100/100 [00:03<00:00, 27.04it/s]\n"
     ]
    },
    {
     "name": "stdout",
     "output_type": "stream",
     "text": [
      "Procesando género: metal\n"
     ]
    },
    {
     "name": "stderr",
     "output_type": "stream",
     "text": [
      "100%|██████████| 100/100 [00:03<00:00, 26.58it/s]\n"
     ]
    },
    {
     "name": "stdout",
     "output_type": "stream",
     "text": [
      "Procesando género: pop\n"
     ]
    },
    {
     "name": "stderr",
     "output_type": "stream",
     "text": [
      "100%|██████████| 100/100 [00:03<00:00, 26.78it/s]\n"
     ]
    },
    {
     "name": "stdout",
     "output_type": "stream",
     "text": [
      "Procesando género: reggae\n"
     ]
    },
    {
     "name": "stderr",
     "output_type": "stream",
     "text": [
      "100%|██████████| 100/100 [00:03<00:00, 26.37it/s]\n"
     ]
    },
    {
     "name": "stdout",
     "output_type": "stream",
     "text": [
      "Procesando género: rock\n"
     ]
    },
    {
     "name": "stderr",
     "output_type": "stream",
     "text": [
      "100%|██████████| 100/100 [00:03<00:00, 26.57it/s]\n"
     ]
    },
    {
     "name": "stdout",
     "output_type": "stream",
     "text": [
      "Archivo 'features_gtzan.csv' guardado exitosamente.\n"
     ]
    }
   ],
   "source": [
    "# Extraer características\n",
    "df = extract_features(DATASET_PATH, GENRES)\n",
    "\n",
    "# Guardar en un archivo CSV\n",
    "df.to_csv(\"features_gtzan.csv\", index=False)\n",
    "print(\"Archivo 'features_gtzan.csv' guardado exitosamente.\")"
   ]
  },
  {
   "cell_type": "code",
   "execution_count": null,
   "metadata": {},
   "outputs": [
    {
     "data": {
      "text/html": [
       "<div>\n",
       "<style scoped>\n",
       "    .dataframe tbody tr th:only-of-type {\n",
       "        vertical-align: middle;\n",
       "    }\n",
       "\n",
       "    .dataframe tbody tr th {\n",
       "        vertical-align: top;\n",
       "    }\n",
       "\n",
       "    .dataframe thead th {\n",
       "        text-align: right;\n",
       "    }\n",
       "</style>\n",
       "<table border=\"1\" class=\"dataframe\">\n",
       "  <thead>\n",
       "    <tr style=\"text-align: right;\">\n",
       "      <th></th>\n",
       "      <th>genre</th>\n",
       "      <th>mfcc</th>\n",
       "      <th>filename</th>\n",
       "    </tr>\n",
       "  </thead>\n",
       "  <tbody>\n",
       "    <tr>\n",
       "      <th>0</th>\n",
       "      <td>blues</td>\n",
       "      <td>[-113.619385   121.55302    -19.151056    42.3...</td>\n",
       "      <td>blues.00000.wav</td>\n",
       "    </tr>\n",
       "    <tr>\n",
       "      <th>1</th>\n",
       "      <td>blues</td>\n",
       "      <td>[-207.58151    123.99715      8.939115    35.8...</td>\n",
       "      <td>blues.00001.wav</td>\n",
       "    </tr>\n",
       "    <tr>\n",
       "      <th>2</th>\n",
       "      <td>blues</td>\n",
       "      <td>[-90.776344  140.44861   -29.10056    31.68734...</td>\n",
       "      <td>blues.00002.wav</td>\n",
       "    </tr>\n",
       "    <tr>\n",
       "      <th>3</th>\n",
       "      <td>blues</td>\n",
       "      <td>[-199.462      150.09474      5.649167    26.8...</td>\n",
       "      <td>blues.00003.wav</td>\n",
       "    </tr>\n",
       "    <tr>\n",
       "      <th>4</th>\n",
       "      <td>blues</td>\n",
       "      <td>[-160.29185    126.19576    -35.6025      22.1...</td>\n",
       "      <td>blues.00004.wav</td>\n",
       "    </tr>\n",
       "    <tr>\n",
       "      <th>...</th>\n",
       "      <td>...</td>\n",
       "      <td>...</td>\n",
       "      <td>...</td>\n",
       "    </tr>\n",
       "    <tr>\n",
       "      <th>985</th>\n",
       "      <td>rock</td>\n",
       "      <td>[-153.61649   109.894516  -23.10659    59.0074...</td>\n",
       "      <td>rock.00095.wav</td>\n",
       "    </tr>\n",
       "    <tr>\n",
       "      <th>986</th>\n",
       "      <td>rock</td>\n",
       "      <td>[-142.44206   116.23844   -32.19032    49.1146...</td>\n",
       "      <td>rock.00096.wav</td>\n",
       "    </tr>\n",
       "    <tr>\n",
       "      <th>987</th>\n",
       "      <td>rock</td>\n",
       "      <td>[-125.06511   115.20331   -48.00468    52.8431...</td>\n",
       "      <td>rock.00097.wav</td>\n",
       "    </tr>\n",
       "    <tr>\n",
       "      <th>988</th>\n",
       "      <td>rock</td>\n",
       "      <td>[-224.99405    123.669685    -9.775933    56.6...</td>\n",
       "      <td>rock.00098.wav</td>\n",
       "    </tr>\n",
       "    <tr>\n",
       "      <th>989</th>\n",
       "      <td>rock</td>\n",
       "      <td>[-235.2182     123.893234   -22.541746    52.9...</td>\n",
       "      <td>rock.00099.wav</td>\n",
       "    </tr>\n",
       "  </tbody>\n",
       "</table>\n",
       "<p>990 rows × 3 columns</p>\n",
       "</div>"
      ],
      "text/plain": [
       "     genre                                               mfcc         filename\n",
       "0    blues  [-113.619385   121.55302    -19.151056    42.3...  blues.00000.wav\n",
       "1    blues  [-207.58151    123.99715      8.939115    35.8...  blues.00001.wav\n",
       "2    blues  [-90.776344  140.44861   -29.10056    31.68734...  blues.00002.wav\n",
       "3    blues  [-199.462      150.09474      5.649167    26.8...  blues.00003.wav\n",
       "4    blues  [-160.29185    126.19576    -35.6025      22.1...  blues.00004.wav\n",
       "..     ...                                                ...              ...\n",
       "985   rock  [-153.61649   109.894516  -23.10659    59.0074...   rock.00095.wav\n",
       "986   rock  [-142.44206   116.23844   -32.19032    49.1146...   rock.00096.wav\n",
       "987   rock  [-125.06511   115.20331   -48.00468    52.8431...   rock.00097.wav\n",
       "988   rock  [-224.99405    123.669685    -9.775933    56.6...   rock.00098.wav\n",
       "989   rock  [-235.2182     123.893234   -22.541746    52.9...   rock.00099.wav\n",
       "\n",
       "[990 rows x 3 columns]"
      ]
     },
     "execution_count": 88,
     "metadata": {},
     "output_type": "execute_result"
    }
   ],
   "source": [
    "df = pd.read_csv(\"features_gtzan.csv\")\n",
    "df"
   ]
  },
  {
   "cell_type": "markdown",
   "metadata": {},
   "source": [
    "Partición del dataset"
   ]
  },
  {
   "cell_type": "code",
   "execution_count": 92,
   "metadata": {},
   "outputs": [
    {
     "name": "stdout",
     "output_type": "stream",
     "text": [
      "Tamaño del conjunto de entrenamiento: 693\n",
      "Tamaño del conjunto de validación: 148\n",
      "Tamaño del conjunto de prueba: 149\n"
     ]
    }
   ],
   "source": [
    "# Convertir la columna 'mfcc' de cadenas a arrays NumPy\n",
    "X = np.array([np.fromstring(row[1:-1], sep=' ') for row in df['mfcc']])\n",
    "y = np.array(df[\"genre\"].tolist())\n",
    "\n",
    "# Convertir etiquetas a valores numéricos\n",
    "label_encoder = LabelEncoder()\n",
    "y = label_encoder.fit_transform(y)\n",
    "\n",
    "# Estandarizar las características\n",
    "scaler = StandardScaler()\n",
    "X = scaler.fit_transform(X)\n",
    "\n",
    "X_train, X_temp, y_train, y_temp = train_test_split(X, y, test_size=0.3, random_state=42, stratify=y)\n",
    "X_val, X_test, y_val, y_test = train_test_split(X_temp, y_temp, test_size=0.5, random_state=42, stratify=y_temp)\n",
    "\n",
    "print(f\"Tamaño del conjunto de entrenamiento: {len(X_train)}\")\n",
    "print(f\"Tamaño del conjunto de validación: {len(X_val)}\")\n",
    "print(f\"Tamaño del conjunto de prueba: {len(X_test)}\")"
   ]
  },
  {
   "cell_type": "markdown",
   "metadata": {},
   "source": [
    "Modelos de ML"
   ]
  },
  {
   "cell_type": "code",
   "execution_count": 105,
   "metadata": {},
   "outputs": [],
   "source": [
    "# pip install seaborn\n",
    "from sklearn.ensemble import RandomForestClassifier\n",
    "from sklearn.metrics import classification_report, confusion_matrix\n",
    "import seaborn as sns"
   ]
  },
  {
   "cell_type": "markdown",
   "metadata": {},
   "source": [
    "1st MLM: Random Forest"
   ]
  },
  {
   "cell_type": "code",
   "execution_count": 103,
   "metadata": {},
   "outputs": [
    {
     "name": "stdout",
     "output_type": "stream",
     "text": [
      "Reporte de validación:\n",
      "              precision    recall  f1-score   support\n",
      "\n",
      "       blues       0.73      0.53      0.62        15\n",
      "   classical       0.86      0.86      0.86        14\n",
      "     country       0.71      0.80      0.75        15\n",
      "       disco       0.53      0.60      0.56        15\n",
      "      hiphop       0.42      0.36      0.38        14\n",
      "        jazz       0.67      0.67      0.67        15\n",
      "       metal       0.76      0.87      0.81        15\n",
      "         pop       0.65      0.87      0.74        15\n",
      "      reggae       0.59      0.67      0.62        15\n",
      "        rock       0.88      0.47      0.61        15\n",
      "\n",
      "    accuracy                           0.67       148\n",
      "   macro avg       0.68      0.67      0.66       148\n",
      "weighted avg       0.68      0.67      0.66       148\n",
      "\n"
     ]
    }
   ],
   "source": [
    "# Crear el modelo Random Forest\n",
    "rf_model = RandomForestClassifier(n_estimators=100, random_state=42)\n",
    "\n",
    "# Entrenar el modelo\n",
    "rf_model.fit(X_train, y_train)\n",
    "\n",
    "# Validar el modelo\n",
    "y_val_pred = rf_model.predict(X_val)\n",
    "print(\"Reporte de validación:\")\n",
    "print(classification_report(y_val, y_val_pred, target_names=label_encoder.classes_))"
   ]
  },
  {
   "cell_type": "code",
   "execution_count": 106,
   "metadata": {},
   "outputs": [
    {
     "name": "stdout",
     "output_type": "stream",
     "text": [
      "Reporte de prueba:\n",
      "              precision    recall  f1-score   support\n",
      "\n",
      "       blues       0.63      0.80      0.71        15\n",
      "   classical       0.70      0.93      0.80        15\n",
      "     country       0.30      0.21      0.25        14\n",
      "       disco       0.50      0.53      0.52        15\n",
      "      hiphop       0.42      0.53      0.47        15\n",
      "        jazz       0.64      0.47      0.54        15\n",
      "       metal       0.75      0.60      0.67        15\n",
      "         pop       0.71      0.67      0.69        15\n",
      "      reggae       0.62      0.53      0.57        15\n",
      "        rock       0.47      0.47      0.47        15\n",
      "\n",
      "    accuracy                           0.58       149\n",
      "   macro avg       0.57      0.57      0.57       149\n",
      "weighted avg       0.58      0.58      0.57       149\n",
      "\n"
     ]
    },
    {
     "data": {
      "image/png": "[encoded data removed]",
      "text/plain": [
       "<Figure size 1000x800 with 2 Axes>"
      ]
     },
     "metadata": {},
     "output_type": "display_data"
    }
   ],
   "source": [
    "# Evaluar en los datos de prueba\n",
    "y_test_pred = rf_model.predict(X_test)\n",
    "print(\"Reporte de prueba:\")\n",
    "print(classification_report(y_test, y_test_pred, target_names=label_encoder.classes_))\n",
    "\n",
    "# Matriz de confusión\n",
    "conf_matrix = confusion_matrix(y_test, y_test_pred)\n",
    "plt.figure(figsize=(10, 8))\n",
    "sns.heatmap(conf_matrix, annot=True, fmt='d', xticklabels=label_encoder.classes_, yticklabels=label_encoder.classes_, cmap='Blues')\n",
    "plt.xlabel(\"Predicción\")\n",
    "plt.ylabel(\"Real\")\n",
    "plt.title(\"Matriz de Confusión\")\n",
    "plt.show()"
   ]
  }
 ],
 "metadata": {
  "kernelspec": {
   "display_name": ".venv",
   "language": "python",
   "name": "python3"
  },
  "language_info": {
   "codemirror_mode": {
    "name": "ipython",
    "version": 3
   },
   "file_extension": ".py",
   "mimetype": "text/x-python",
   "name": "python",
   "nbconvert_exporter": "python",
   "pygments_lexer": "ipython3",
   "version": "3.12.1"
  }
 },
 "nbformat": 4,
 "nbformat_minor": 2
}
